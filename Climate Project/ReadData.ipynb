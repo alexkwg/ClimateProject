{
 "cells": [
  {
   "cell_type": "code",
   "execution_count": 1,
   "metadata": {},
   "outputs": [
    {
     "name": "stdout",
     "output_type": "stream",
     "text": [
      "Requirement already satisfied: netCDF4 in /opt/anaconda3/lib/python3.7/site-packages (1.5.4)\n",
      "Requirement already satisfied: numpy>=1.9 in /opt/anaconda3/lib/python3.7/site-packages (from netCDF4) (1.17.2)\n",
      "Requirement already satisfied: cftime in /opt/anaconda3/lib/python3.7/site-packages (from netCDF4) (1.2.1)\n",
      "Note: you may need to restart the kernel to use updated packages.\n"
     ]
    }
   ],
   "source": [
    "pip install netCDF4"
   ]
  },
  {
   "cell_type": "code",
   "execution_count": 2,
   "metadata": {},
   "outputs": [
    {
     "name": "stdout",
     "output_type": "stream",
     "text": [
      "Requirement already satisfied: statsmodels in /opt/anaconda3/lib/python3.7/site-packages (0.10.1)\n",
      "Requirement already satisfied: scipy>=0.18 in /opt/anaconda3/lib/python3.7/site-packages (from statsmodels) (1.3.1)\n",
      "Requirement already satisfied: patsy>=0.4.0 in /opt/anaconda3/lib/python3.7/site-packages (from statsmodels) (0.5.1)\n",
      "Requirement already satisfied: pandas>=0.19 in /opt/anaconda3/lib/python3.7/site-packages (from statsmodels) (0.25.1)\n",
      "Requirement already satisfied: numpy>=1.11 in /opt/anaconda3/lib/python3.7/site-packages (from statsmodels) (1.17.2)\n",
      "Requirement already satisfied: six in /opt/anaconda3/lib/python3.7/site-packages (from patsy>=0.4.0->statsmodels) (1.12.0)\n",
      "Requirement already satisfied: pytz>=2017.2 in /opt/anaconda3/lib/python3.7/site-packages (from pandas>=0.19->statsmodels) (2019.3)\n",
      "Requirement already satisfied: python-dateutil>=2.6.1 in /opt/anaconda3/lib/python3.7/site-packages (from pandas>=0.19->statsmodels) (2.8.0)\n",
      "Note: you may need to restart the kernel to use updated packages.\n"
     ]
    }
   ],
   "source": [
    "pip install statsmodels"
   ]
  },
  {
   "cell_type": "code",
   "execution_count": 3,
   "metadata": {},
   "outputs": [
    {
     "name": "stdout",
     "output_type": "stream",
     "text": [
      "Done with array creation\n",
      "[11.458929    1.4880581   0.53422123  0.93937314  1.1111083   1.2164114\n",
      "  0.46509534  8.513382    3.3370667   0.          0.        ]\n"
     ]
    },
    {
     "data": {
      "image/png": "[encoded data removed]",
      "text/plain": [
       "<Figure size 432x288 with 1 Axes>"
      ]
     },
     "metadata": {
      "needs_background": "light"
     },
     "output_type": "display_data"
    }
   ],
   "source": [
    "import netCDF4\n",
    "import matplotlib.pyplot as plt\n",
    "import datetime \n",
    "import statsmodels as statsmodels\n",
    "import statistics as stats\n",
    "import decimal\n",
    "import os\n",
    "import numpy as np\n",
    "\n",
    "######## DMI ARRAY CREATION #######\n",
    "######## DMI ARRAY CREATION #######\n",
    "######## DMI ARRAY CREATION #######\n",
    "######## DMI ARRAY CREATION #######\n",
    "\n",
    "iodfile = \"dmi.nc\"\n",
    "f = netCDF4.Dataset(iodfile, 'r')\n",
    "SSTAnp=f.variables['DMI'][:]\n",
    "weeknp=f.variables['WEDCEN2'][:]\n",
    "SSTA=SSTAnp.tolist() #list of DMI SSTA\n",
    "week=weeknp.tolist() \n",
    "f.close()\n",
    "DMIdate=[]     #DATE OF DMI \n",
    "for i in range(0, len(week)):    \n",
    "    days=week[i]\n",
    "    start=datetime.date(1900, 1, 1)\n",
    "    delta=datetime.timedelta(days)\n",
    "    offset=start+delta\n",
    "    DMIdate.append(offset)\n",
    "\n",
    "\n",
    "date_DMI=[]\n",
    "for j in range(0, len(SSTA)):\n",
    "    date_DMI.append([DMIdate[j], SSTA[j]])\n",
    "#print(date_DMI)    #### ARRAY OF FORMAT (DATETIME, DMI)\n",
    "\n",
    "\n",
    "###### TRMM DATA MEGA ARRAY CREATION ######\n",
    "###### TRMM DATA MEGA ARRAY CREATION ######\n",
    "###### TRMM DATA MEGA ARRAY CREATION ######\n",
    "###### TRMM DATA MEGA ARRAY CREATION ######\n",
    "###### TRMM DATA MEGA ARRAY CREATION ######\n",
    "\n",
    "TRMMfolder=\"TRMM1/\"\n",
    "datetime_prec=[]\n",
    "for filename in os.listdir(TRMMfolder):\n",
    "    if filename.endswith('nc4'):\n",
    "        f=netCDF4.Dataset(TRMMfolder + str(filename))\n",
    "        precp=f.variables['precipitation'][:]\n",
    "        datetime_prec.append([filename[11:19], precp])\n",
    "        f.close()\n",
    "    else:\n",
    "        pass\n",
    "print(\"Done with array creation\")\n",
    "datetime_prec=np.array(datetime_prec)\n",
    "print(datetime_prec[0][1][0] )\n",
    "##### NINO ARRAY CREATION ######\n",
    "##### NINO ARRAY CREATION ######\n",
    "##### NINO ARRAY CREATION ######\n",
    "##### NINO ARRAY CREATION ######\n",
    "ninoindicesfile=\"elnino indices.txt\"\n",
    "\n",
    "f=open(ninoindicesfile, \"r\")\n",
    "linelist=list(f.readlines())    \n",
    "date_Nino12=[]                     #### ARRAY OF FORMAT (DATETIME, DMI)\n",
    "for i in range(4, len(linelist)):\n",
    "    date_Nino12.append([datetime.datetime.strptime(linelist[i][1:10], '%d%b%Y'), decimal.Decimal(linelist[i][19:23])])\n",
    "    \n",
    "    \n",
    "date_Nino3=[]                     #### ARRAY OF FORMAT (DATETIME, DMI)\n",
    "for i in range(4, len(linelist)):\n",
    "    date_Nino3.append([datetime.datetime.strptime(linelist[i][1:10], '%d%b%Y'), decimal.Decimal(linelist[i][32:36])])\n",
    "    \n",
    "    \n",
    "date_Nino34=[]                     #### ARRAY OF FORMAT (DATETIME, DMI)\n",
    "for i in range(4, len(linelist)):\n",
    "    date_Nino34.append([datetime.datetime.strptime(linelist[i][1:10], '%d%b%Y'), decimal.Decimal(linelist[i][45:49])])\n",
    "    \n",
    "    \n",
    "date_Nino4=[]                     #### ARRAY OF FORMAT (DATETIME, DMI)\n",
    "for i in range(4, len(linelist)):\n",
    "    date_Nino4.append([datetime.datetime.strptime(linelist[i][1:10], '%d%b%Y'), decimal.Decimal(linelist[i][58:62])])\n",
    "\n",
    "f.close()    \n",
    "##### Defining STATISTICAL TESTS #####\n",
    "##### Defining STATISTICAL TESTS #####\n",
    "##### Defining STATISTICAL TESTS #####\n",
    "##### Defining STATISTICAL TESTS #####    \n",
    "##### Defining STATISTICAL TESTS #####\n",
    "def SNHT(dataset):   #SNHT FOR time series of dimension 1 x n\n",
    "    n=len(dataset)\n",
    "    sd=stats.pstdev(dataset)\n",
    "    snhtset=[]\n",
    "    for y in range(1,n-1): #Loops from Week 1 to week n-1\n",
    "        summ1=0\n",
    "        for i in range(1, y+1):\n",
    "            summ1 += decimal.Decimal((dataset[i] - decimal.Decimal(stats.mean(dataset)))/sd)\n",
    "        z_1= decimal.Decimal(1/(y+1)) * summ1\n",
    "        summ2=0\n",
    "        for i in range(y+1, n):\n",
    "            summ2 += decimal.Decimal((dataset[i] - decimal.Decimal(stats.mean(dataset)))/sd)\n",
    "        z_2=decimal.Decimal(1/(n-y)) *summ2\n",
    "        snhtset.append(y * (z_1 **2) + (n-y)*(z_2**2))\n",
    "    return snhtset\n",
    "\n",
    "######### GRAPHS###########\n",
    "######### GRAPHS###########\n",
    "######### GRAPHS###########\n",
    "\n",
    "plt.plot(DMIdate,SSTA)\n",
    "plt.show()"
   ]
  },
  {
   "cell_type": "code",
   "execution_count": null,
   "metadata": {},
   "outputs": [],
   "source": []
  },
  {
   "cell_type": "code",
   "execution_count": null,
   "metadata": {},
   "outputs": [],
   "source": []
  }
 ],
 "metadata": {
  "kernelspec": {
   "display_name": "Python 3",
   "language": "python",
   "name": "python3"
  },
  "language_info": {
   "codemirror_mode": {
    "name": "ipython",
    "version": 3
   },
   "file_extension": ".py",
   "mimetype": "text/x-python",
   "name": "python",
   "nbconvert_exporter": "python",
   "pygments_lexer": "ipython3",
   "version": "3.8.3"
  }
 },
 "nbformat": 4,
 "nbformat_minor": 2
}
