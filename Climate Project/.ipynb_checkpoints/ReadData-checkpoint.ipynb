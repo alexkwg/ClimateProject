{
 "cells": [
  {
   "cell_type": "code",
   "execution_count": 1,
   "metadata": {},
   "outputs": [
    {
     "name": "stdout",
     "output_type": "stream",
     "text": [
      "Requirement already satisfied: netCDF4 in /opt/anaconda3/lib/python3.7/site-packages (1.5.4)\n",
      "Requirement already satisfied: numpy>=1.9 in /opt/anaconda3/lib/python3.7/site-packages (from netCDF4) (1.17.2)\n",
      "Requirement already satisfied: cftime in /opt/anaconda3/lib/python3.7/site-packages (from netCDF4) (1.2.1)\n",
      "Note: you may need to restart the kernel to use updated packages.\n"
     ]
    }
   ],
   "source": [
    "pip install netCDF4"
   ]
  },
  {
   "cell_type": "code",
   "execution_count": 2,
   "metadata": {},
   "outputs": [
    {
     "name": "stdout",
     "output_type": "stream",
     "text": [
      "Requirement already satisfied: statsmodels in /opt/anaconda3/lib/python3.7/site-packages (0.10.1)\n",
      "Requirement already satisfied: scipy>=0.18 in /opt/anaconda3/lib/python3.7/site-packages (from statsmodels) (1.3.1)\n",
      "Requirement already satisfied: patsy>=0.4.0 in /opt/anaconda3/lib/python3.7/site-packages (from statsmodels) (0.5.1)\n",
      "Requirement already satisfied: pandas>=0.19 in /opt/anaconda3/lib/python3.7/site-packages (from statsmodels) (0.25.1)\n",
      "Requirement already satisfied: numpy>=1.11 in /opt/anaconda3/lib/python3.7/site-packages (from statsmodels) (1.17.2)\n",
      "Requirement already satisfied: six in /opt/anaconda3/lib/python3.7/site-packages (from patsy>=0.4.0->statsmodels) (1.12.0)\n",
      "Requirement already satisfied: pytz>=2017.2 in /opt/anaconda3/lib/python3.7/site-packages (from pandas>=0.19->statsmodels) (2019.3)\n",
      "Requirement already satisfied: python-dateutil>=2.6.1 in /opt/anaconda3/lib/python3.7/site-packages (from pandas>=0.19->statsmodels) (2.8.0)\n",
      "Note: you may need to restart the kernel to use updated packages.\n"
     ]
    }
   ],
   "source": [
    "pip install statsmodels"
   ]
  },
  {
   "cell_type": "code",
   "execution_count": 7,
   "metadata": {},
   "outputs": [
    {
     "name": "stdout",
     "output_type": "stream",
     "text": [
      "test\n",
      "done\n"
     ]
    }
   ],
   "source": [
    "import netCDF4\n",
    "import matplotlib.pyplot as plt\n",
    "import datetime \n",
    "import statsmodels as statsmodels\n",
    "import statistics as stats\n",
    "import decimal\n",
    "\n",
    "class ReadData:\n",
    "    \"\"\"\n",
    "    ReadData-- generates the dataset\n",
    "    \n",
    "    TODO: currently doesn't use generators, so it can be slow.\n",
    "    \"\"\"\n",
    "    \n",
    "    \"\"\"\n",
    "    Returns the DMI dataset--used for (???)\n",
    "    \"\"\"\n",
    "    def generateDataDMI(self):\n",
    "        iodfile = \"dmi.nc\" #were reading the DMI file\n",
    "        f = netCDF4.Dataset(iodfile, 'r')\n",
    "        SSTAnp=f.variables['DMI'][:]\n",
    "        weeknp=f.variables['WEDCEN2'][:]\n",
    "        SSTA=SSTAnp.tolist() #list of DMI SSTA\n",
    "        week=weeknp.tolist() \n",
    "        f.close()\n",
    "        DMIdate=[]     #DATE OF DMI \n",
    "        for i in range(0, len(week)):    \n",
    "            days=week[i]\n",
    "            start=datetime.date(1900, 1, 1)\n",
    "            delta=datetime.timedelta(days)\n",
    "            offset=start+delta\n",
    "            DMIdate.append(offset)\n",
    "\n",
    "        date_DMI=[]\n",
    "        for j in range(0, len(SSTA)):\n",
    "            date_DMI.append([DMIdate[j], SSTA[j]])\n",
    "        return date_DMI\n",
    "    \"\"\"\n",
    "    Generate TRMM dataset\n",
    "    \"\"\"\n",
    "    def generateDataTRMM(self):\n",
    "        pass\n",
    "        #not sure what the file types look like, but we'll loop through them here\n",
    "    \n",
    "    def generateDataElNino(self):\n",
    "        ninoindicesfile=\"elnino indices.txt\"\n",
    "        f=open(ninoindicesfile, \"r\")\n",
    "        linelist=list(f.readlines())    \n",
    "        #### ARRAYS OF FORMAT (DATETIME, DMI)\n",
    "        date_Nino12=[]   \n",
    "        date_Nino3=[]\n",
    "        date_Nino34=[]\n",
    "        date_Nino4=[]\n",
    "        for i in range(4, len(linelist)):#Nino 12\n",
    "            date_Nino12.append([datetime.datetime.strptime(linelist[i][1:10], '%d%b%Y'), decimal.Decimal(linelist[i][19:23])])                          \n",
    "        for i in range(4, len(linelist)):#Nino 3\n",
    "            date_Nino3.append([datetime.datetime.strptime(linelist[i][1:10], '%d%b%Y'), decimal.Decimal(linelist[i][32:36])])                      \n",
    "        for i in range(4, len(linelist)):#Nino 34\n",
    "            date_Nino34.append([datetime.datetime.strptime(linelist[i][1:10], '%d%b%Y'), decimal.Decimal(linelist[i][45:49])])                     \n",
    "        for i in range(4, len(linelist)): #Nino 4\n",
    "            date_Nino4.append([datetime.datetime.strptime(linelist[i][1:10], '%d%b%Y'), decimal.Decimal(linelist[i][58:62])])\n",
    "        f.close() \n",
    "        print(date_Nino12)\n",
    "        print(date_Nino3)\n",
    "        #Not sure what to return here \n",
    "    def generateDataSNHT(self,dataset):   #SNHT FOR time series of dimension 1 x n\n",
    "        n=len(dataset)\n",
    "        sd=stats.pstdev(dataset)\n",
    "        snhtset=[]\n",
    "        for y in range(1,n-1): #Loops from Week 1 to week n-1\n",
    "            summ1=0\n",
    "            for i in range(1, y+1):\n",
    "                summ1 += decimal.Decimal((dataset[i] - decimal.Decimal(stats.mean(dataset)))/sd)\n",
    "            z_1= decimal.Decimal(1/(y+1)) * summ1\n",
    "            summ2=0\n",
    "            for i in range(y+1, n):\n",
    "                summ2 += decimal.Decimal((dataset[i] - decimal.Decimal(stats.mean(dataset)))/sd)\n",
    "            z_2=decimal.Decimal(1/(n-y)) *summ2\n",
    "            snhtset.append(y * (z_1 **2) + (n-y)*(z_2**2))\n",
    "        return snhtset\n",
    "    def TRMMopen(self,file_number):\n",
    "        TRMMfile=\"TRMM/3B42_Daily.\" + str(file_number)+\".7.nc4\"\n",
    "        f20191230=netCDF4.Dataset(TRMMfile, 'r')\n",
    "        print(f20191230)\n",
    "        for i in f20191230.variables:\n",
    "            print(i, f20191230.variables[i].units)\n",
    "        print(f20191230.variables['HQprecipitation'])\n",
    "        f20191230.close()\n",
    "\n",
    "print(\"test\")\n",
    "d = ReadData()\n",
    "d.generateDataElNino()\n",
    "print(\"done\")\n",
    "\n",
    "\n",
    "\n",
    "    \n",
    "\n",
    "\n",
    "\n",
    "\n",
    "\n",
    "\n",
    "\n"
   ]
  },
  {
   "cell_type": "code",
   "execution_count": null,
   "metadata": {},
   "outputs": [],
   "source": []
  }
 ],
 "metadata": {
  "kernelspec": {
   "display_name": "Python 3",
   "language": "python",
   "name": "python3"
  },
  "language_info": {
   "codemirror_mode": {
    "name": "ipython",
    "version": 3
   },
   "file_extension": ".py",
   "mimetype": "text/x-python",
   "name": "python",
   "nbconvert_exporter": "python",
   "pygments_lexer": "ipython3",
   "version": "3.7.4"
  }
 },
 "nbformat": 4,
 "nbformat_minor": 2
}
